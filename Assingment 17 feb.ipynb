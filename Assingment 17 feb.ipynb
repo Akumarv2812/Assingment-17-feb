{
 "cells": [
  {
   "cell_type": "code",
   "execution_count": null,
   "id": "18dc0cea-32e3-4c08-a9f2-3450fda72c00",
   "metadata": {},
   "outputs": [],
   "source": [
    "#Answer:1\n",
    "MongoDB is a non-relational document database that provides support for JSON-like storage.\n",
    "A non-relational database is a database that does not use the tabular schema of rows and columns found in most traditional database systems.\n",
    "NoSQL databases like MongoDB are a good choice when your data is document-centric and doesn't fit well into the schema of a relational database, when you need to accommodate massive scale, when you are rapidly prototyping, and a few other use cases."
   ]
  },
  {
   "cell_type": "code",
   "execution_count": null,
   "id": "ef4a4f82-5d4e-4619-aa9a-2c933c87728d",
   "metadata": {},
   "outputs": [],
   "source": [
    "#Answer:2\n",
    "MongoDB supports field queries, range queries, and regular expression searches. Queries can return specific fields and also account for user-defined functions. This is made possible because MongoDB indexes BSON documents and uses the MongoDB Query Language (MQL)."
   ]
  },
  {
   "cell_type": "code",
   "execution_count": null,
   "id": "df8e3155-8d6c-4123-a560-829d2dcbdf52",
   "metadata": {},
   "outputs": [],
   "source": [
    "#Answer:3\n",
    "from pymongo import MongoClient # import mongo client to connect.\n",
    "import print\n",
    "# Creating instance of mongoclient.\n",
    "client = MongoClient()\n",
    "# Creating database.\n",
    "db = client.python\n",
    "employee = {\"id\": \"101\",\n",
    "\"name\": \"Arun\",\"profession\":\"data scientist\"}"
   ]
  },
  {
   "cell_type": "code",
   "execution_count": null,
   "id": "cebcc1a4-5b86-4d84-922b-1a42b98a6d59",
   "metadata": {},
   "outputs": [],
   "source": [
    "#Answer:6\n",
    "The sort() method sorts the elements of an array in place and returns the reference to the same array, now sorted. The default sort order is ascending, built upon converting the elements into strings, then comparing their sequences of UTF-16 code units values.\n"
   ]
  },
  {
   "cell_type": "code",
   "execution_count": null,
   "id": "14a7c920-56d4-4322-be9e-108c62138870",
   "metadata": {},
   "outputs": [],
   "source": [
    "#Answer:7\n",
    "Delete_many:-\n",
    "\n",
    "Delete_many() is used when one needs to delete more than one document. A query object containing which document to be deleted is created and is passed as the first parameter to the delete_many().\n"
   ]
  }
 ],
 "metadata": {
  "kernelspec": {
   "display_name": "Python 3 (ipykernel)",
   "language": "python",
   "name": "python3"
  },
  "language_info": {
   "codemirror_mode": {
    "name": "ipython",
    "version": 3
   },
   "file_extension": ".py",
   "mimetype": "text/x-python",
   "name": "python",
   "nbconvert_exporter": "python",
   "pygments_lexer": "ipython3",
   "version": "3.10.8"
  }
 },
 "nbformat": 4,
 "nbformat_minor": 5
}
